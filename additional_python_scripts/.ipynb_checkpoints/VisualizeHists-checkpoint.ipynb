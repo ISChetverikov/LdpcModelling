{
 "cells": [
  {
   "cell_type": "code",
   "execution_count": 2,
   "metadata": {},
   "outputs": [
    {
     "name": "stdout",
     "output_type": "stream",
     "text": [
      "None\n",
      "9.32646662946015e-09\n",
      "4.444521385563204e-08\n",
      "5.1848756440935033e-17\n",
      "1.6532326199478246e-13\n",
      "1.8305744029655682e-08\n",
      "3.7938408170597574e-08\n",
      "6.66630560274255e-07\n",
      "4.552582969411162e-06\n",
      "2.5110704702061877e-05\n",
      "3.229677096502661e-05\n",
      "3.798753597657733e-05\n",
      "3.013209912557275e-05\n",
      "3.935874579496287e-05\n",
      "3.4257220840665336e-05\n",
      "3.154212568556637e-05\n",
      "3.987757221669042e-05\n",
      "3.0724204654615357e-05\n",
      "3.595850617544965e-05\n",
      "5.0608509442295404e-05\n",
      "3.328913064887837e-05\n"
     ]
    }
   ],
   "source": [
    "import pandas as pd\n",
    "import numpy as np \n",
    "\n",
    "filename = \"C:\\\\Users\\\\ische\\\\source\\\\repos\\\\LdpcModelling\\\\LDPC_cpp\\\\x64\\\\Release\\\\ffh.prob.H.G.4-22_21-56-34.debug\"\n",
    "data = pd.read_csv(filename, header=None, comment='#', nrows=100 )\n",
    "print(data.drop(columns=[100], inplace=True))\n",
    "\n",
    "max_it = data.shape[0] // 3\n",
    "L = data.shape[1]\n",
    "\n",
    "for up_it in range(max_it):\n",
    "    prob = data.iloc[up_it*3]\n",
    "    prob_mean = prob.mean()\n",
    "    prob_norm = np.exp(prob-prob_mean).sum()\n",
    "    prob_error = 0\n",
    "    \n",
    "    for bin_num in range(L):\n",
    "        el_num = 0;\n",
    "        er_num = 0;\n",
    "        \n",
    "        for it in range(up_it+1):\n",
    "            el_num += data.iloc[3*it + 1, bin_num]\n",
    "            er_num += data.iloc[3*it + 2, bin_num]\n",
    "        \n",
    "        prob_error += np.exp(prob[bin_num] - prob_mean) / prob_norm * er_num / el_num\n",
    "       \n",
    "    print(prob_error)\n"
   ]
  },
  {
   "cell_type": "code",
   "execution_count": null,
   "metadata": {},
   "outputs": [],
   "source": []
  },
  {
   "cell_type": "code",
   "execution_count": null,
   "metadata": {},
   "outputs": [],
   "source": []
  }
 ],
 "metadata": {
  "kernelspec": {
   "display_name": "Python 3",
   "language": "python",
   "name": "python3"
  },
  "language_info": {
   "codemirror_mode": {
    "name": "ipython",
    "version": 3
   },
   "file_extension": ".py",
   "mimetype": "text/x-python",
   "name": "python",
   "nbconvert_exporter": "python",
   "pygments_lexer": "ipython3",
   "version": "3.7.3"
  }
 },
 "nbformat": 4,
 "nbformat_minor": 2
}
